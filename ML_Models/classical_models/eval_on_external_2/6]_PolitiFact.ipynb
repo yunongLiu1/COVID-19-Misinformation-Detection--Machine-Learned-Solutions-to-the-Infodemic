{
  "cells": [
    {
      "cell_type": "code",
      "execution_count": 1,
      "metadata": {
        "colab": {
          "base_uri": "https://localhost:8080/"
        },
        "id": "pGfNFKBkrhmd",
        "outputId": "b4ea8c19-01b6-4097-fabc-af90f71825f1"
      },
      "outputs": [
        {
          "name": "stdout",
          "output_type": "stream",
          "text": [
            "Mounted at /content/drive\n"
          ]
        }
      ],
      "source": [
        "from google.colab import drive\n",
        "drive.mount('/content/drive')"
      ]
    },
    {
      "cell_type": "code",
      "execution_count": 2,
      "metadata": {
        "id": "-GObzcCQrkyX"
      },
      "outputs": [],
      "source": [
        "from keras.preprocessing.text import one_hot\n",
        "from keras.preprocessing.sequence import pad_sequences\n",
        "from sklearn.model_selection import train_test_split\n",
        "import pandas as pd\n",
        "\n",
        "FNNpath = \"../Datasets/FNN Titles/\"\n",
        "\n",
        "politiFactFake = pd.read_csv(FNNpath+\"politifact_fake.csv\", usecols=['title'])\n",
        "politiFactFake['label']=0\n",
        "politiFactTrue = pd.read_csv(FNNpath+\"politifact_real.csv\", usecols=['title'], nrows=len(politiFactFake.values))\n",
        "politiFactTrue['label']=1\n",
        "\n",
        "\n",
        "\n",
        "dfTotal = pd.concat([politiFactTrue, politiFactFake])\n",
        "X = dfTotal['title'].values\n",
        "y = dfTotal['label'].values\n",
        "\n",
        "X_train_base, X_test_base, y_train_base, y_test_base = train_test_split(\n",
        "  X, y, test_size=0.25, random_state=450)\n",
        "\n"
      ]
    },
    {
      "cell_type": "markdown",
      "metadata": {
        "id": "oJT6JWT3CyHi"
      },
      "source": [
        "## Evaluate on the second external validation dataset"
      ]
    },
    {
      "cell_type": "code",
      "execution_count": 3,
      "metadata": {
        "colab": {
          "base_uri": "https://localhost:8080/"
        },
        "id": "UKwcCkEtB1a7",
        "outputId": "dd75e883-df33-4d94-d301-96ded0d4a027"
      },
      "outputs": [
        {
          "name": "stdout",
          "output_type": "stream",
          "text": [
            "PolitiFact: Results of SVM external validation, on our new dataset:\n",
            "              precision    recall  f1-score   support\n",
            "\n",
            "           0       0.78      0.87      0.82     14398\n",
            "           1       0.87      0.78      0.82     16232\n",
            "\n",
            "    accuracy                           0.82     30630\n",
            "   macro avg       0.82      0.82      0.82     30630\n",
            "weighted avg       0.83      0.82      0.82     30630\n",
            "\n"
          ]
        },
        {
          "name": "stderr",
          "output_type": "stream",
          "text": [
            "/usr/local/lib/python3.7/dist-packages/sklearn/linear_model/_logistic.py:818: ConvergenceWarning: lbfgs failed to converge (status=1):\n",
            "STOP: TOTAL NO. of ITERATIONS REACHED LIMIT.\n",
            "\n",
            "Increase the number of iterations (max_iter) or scale the data as shown in:\n",
            "    https://scikit-learn.org/stable/modules/preprocessing.html\n",
            "Please also refer to the documentation for alternative solver options:\n",
            "    https://scikit-learn.org/stable/modules/linear_model.html#logistic-regression\n",
            "  extra_warning_msg=_LOGISTIC_SOLVER_CONVERGENCE_MSG,\n"
          ]
        },
        {
          "name": "stdout",
          "output_type": "stream",
          "text": [
            "PolitiFact: Results of LR external validation, on our new dataset:\n",
            "              precision    recall  f1-score   support\n",
            "\n",
            "           0       0.77      0.79      0.78     14398\n",
            "           1       0.81      0.79      0.80     16232\n",
            "\n",
            "    accuracy                           0.79     30630\n",
            "   macro avg       0.79      0.79      0.79     30630\n",
            "weighted avg       0.79      0.79      0.79     30630\n",
            "\n",
            "PolitiFact: Results of Bernoulli NB external validation, on our new dataset:\n",
            "              precision    recall  f1-score   support\n",
            "\n",
            "           0       0.74      0.85      0.79     14398\n",
            "           1       0.85      0.73      0.79     16232\n",
            "\n",
            "    accuracy                           0.79     30630\n",
            "   macro avg       0.79      0.79      0.79     30630\n",
            "weighted avg       0.80      0.79      0.79     30630\n",
            "\n"
          ]
        }
      ],
      "source": [
        "validationNewsDF = pd.read_csv('../Datasets/New_External_Validation_Dataset.csv')\n",
        "\n",
        "validationX = validationNewsDF['title'].values\n",
        "validationX = [one_hot(str(elem),10000) for elem in validationX]\n",
        "validationX = pad_sequences(validationX, padding='post', maxlen=500)\n",
        "validationY = validationNewsDF['label'].values\n",
        "\n",
        "#For SVM, LR, and NB, we used the default settings provided in the scikit-learn \n",
        "#For CNN we use the standard implementation with default setting https://github.com/dennybritz/cnn-text-classification-tf\n",
        "#Could just use an out-of-the-box CNN implementation from a TF tutorial\n",
        "# The dennybritz one seems good but I can do it later\n",
        "from sklearn import svm\n",
        "from sklearn.linear_model import LogisticRegression\n",
        "from keras.preprocessing.text import one_hot\n",
        "from keras.preprocessing.sequence import pad_sequences\n",
        "from sklearn.metrics import classification_report\n",
        "from sklearn.naive_bayes import GaussianNB, MultinomialNB, ComplementNB, BernoulliNB, CategoricalNB\n",
        "# Bernoulli was best of above\n",
        "import math\n",
        "X_train = [one_hot(str(elem), 10000) for elem in X_train_base]\n",
        "X_test =  [one_hot(str(elem), 10000) for elem in X_test_base]\n",
        "X_train = pad_sequences(X_train, padding='post', maxlen=500)\n",
        "X_test = pad_sequences(X_test, padding='post', maxlen=500)\n",
        "\n",
        "svmClassifier = svm.SVC()\n",
        "svmClassifier.fit(X_train, y_train_base)\n",
        "svmPrediction = svmClassifier.predict(X_test)\n",
        "svmPrediction = [math.floor(0.5+pred) for pred in svmPrediction]\n",
        "\n",
        "svmValidationPrediction = svmClassifier.predict(validationX)\n",
        "svmValidationPrediction = [math.floor(0.5+pred) for pred in svmValidationPrediction]\n",
        "print(\"PolitiFact: Results of SVM external validation, on our new dataset:\")\n",
        "print(classification_report(validationY, svmValidationPrediction))\n",
        "\n",
        "\n",
        "\n",
        "X_train = [one_hot(str(elem), 10000) for elem in X_train_base]\n",
        "X_test =  [one_hot(str(elem), 10000) for elem in X_test_base]\n",
        "X_train = pad_sequences(X_train, padding='post', maxlen=500)\n",
        "X_test = pad_sequences(X_test, padding='post', maxlen=500)\n",
        "\n",
        "lrClassifier = LogisticRegression(random_state=0, max_iter=500)\n",
        "lrClassifier.fit(X_train, y_train_base)\n",
        "lrPrediction = lrClassifier.predict(X_test)\n",
        "lrPrediction = [math.floor(0.5+pred) for pred in lrPrediction]\n",
        "\n",
        "lrValidationPrediction = lrClassifier.predict(validationX)\n",
        "lrValidationPrediction = [math.floor(0.5+pred) for pred in lrValidationPrediction]\n",
        "print(\"PolitiFact: Results of LR external validation, on our new dataset:\")\n",
        "print(classification_report(validationY, lrValidationPrediction))\n",
        "\n",
        "X_train = [one_hot(str(elem), 10000) for elem in X_train_base]\n",
        "X_test =  [one_hot(str(elem), 10000) for elem in X_test_base]\n",
        "X_train = pad_sequences(X_train, padding='post', maxlen=500)\n",
        "X_test = pad_sequences(X_test, padding='post', maxlen=500)\n",
        "\n",
        "bnbClassifier = BernoulliNB()\n",
        "bnbClassifier.fit(X_train, y_train_base)\n",
        "bnbPrediction = bnbClassifier.predict(X_test)\n",
        "bnbPrediction = [math.floor(0.5+pred) for pred in bnbPrediction]\n",
        "\n",
        "bnbValidationPrediction = bnbClassifier.predict(validationX)\n",
        "bnbValidationPrediction = [math.floor(0.5+pred) for pred in bnbValidationPrediction]\n",
        "print(\"PolitiFact: Results of Bernoulli NB external validation, on our new dataset:\")\n",
        "print(classification_report(validationY, bnbValidationPrediction))\n",
        "\n"
      ]
    },
    {
      "cell_type": "code",
      "execution_count": 3,
      "metadata": {
        "id": "aZ4UTxvTCxet"
      },
      "outputs": [],
      "source": []
    }
  ],
  "metadata": {
    "colab": {
      "name": "6]_PolitiFact.ipynb",
      "provenance": []
    },
    "kernelspec": {
      "display_name": "Python 3",
      "name": "python3"
    }
  },
  "nbformat": 4,
  "nbformat_minor": 0
}
