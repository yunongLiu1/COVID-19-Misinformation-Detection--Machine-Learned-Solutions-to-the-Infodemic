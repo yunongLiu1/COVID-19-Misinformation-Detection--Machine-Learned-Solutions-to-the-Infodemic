{
  "cells": [
    {
      "cell_type": "code",
      "execution_count": 6,
      "metadata": {
        "colab": {
          "base_uri": "https://localhost:8080/"
        },
        "id": "n6f8utMiJUie",
        "outputId": "ffc5b571-7740-4b3f-fb98-30e70e41ee4c"
      },
      "outputs": [
        {
          "name": "stdout",
          "output_type": "stream",
          "text": [
            "Drive already mounted at /content/drive; to attempt to forcibly remount, call drive.mount(\"/content/drive\", force_remount=True).\n"
          ]
        }
      ],
      "source": [
        "from google.colab import drive\n",
        "drive.mount('/content/drive')"
      ]
    },
    {
      "cell_type": "code",
      "execution_count": 7,
      "metadata": {
        "id": "_UAmhKsRJWvN"
      },
      "outputs": [],
      "source": [
        "from keras.preprocessing.text import one_hot\n",
        "from keras.preprocessing.sequence import pad_sequences\n",
        "from sklearn.model_selection import train_test_split\n",
        "import pandas as pd\n",
        "FNNpath = \"../Datasets/FNN Titles/\"\n",
        "CoAIDpath =  \"../Datasets/CoAID/\"\n",
        "\n",
        "politiFactFake = pd.read_csv(FNNpath+\"politifact_fake.csv\", usecols=['title'])\n",
        "politiFactFake['label']=0\n",
        "gossipCopFake = pd.read_csv(FNNpath+\"gossipcop_fake.csv\", usecols=['title'])\n",
        "gossipCopFake['label']=0\n",
        "politiFactTrue = pd.read_csv(FNNpath+\"politifact_real.csv\", usecols=['title'], nrows=len(politiFactFake.values))\n",
        "politiFactTrue['label']=1\n",
        "gossipCopTrue = pd.read_csv(FNNpath+\"gossipcop_real.csv\", usecols=['title'],  nrows=len(gossipCopFake.values))\n",
        "gossipCopTrue['label']=1\n",
        "\n",
        "\n",
        "CoAIDFalse = pd.read_csv(CoAIDpath+\"NewsFakeCOVID-19.csv\", usecols=['title'])\n",
        "CoAIDFalse['label']=0\n",
        "CoAIDTrue = pd.read_csv(CoAIDpath+\"NewsRealCOVID-19.csv\", usecols=['title'], nrows=len(CoAIDFalse.values))\n",
        "CoAIDTrue['label']=1\n",
        "\n",
        "\n",
        "dfTotal = pd.concat([politiFactTrue, gossipCopTrue, politiFactFake, gossipCopFake, CoAIDTrue, CoAIDFalse])\n",
        "X = dfTotal['title'].values\n",
        "y = dfTotal['label'].values\n",
        "\n",
        "X_train_base, X_test_base, y_train_base, y_test_base = train_test_split(\n",
        "  X, y, test_size=0.25, random_state=450)\n",
        "\n",
        "\n"
      ]
    },
    {
      "cell_type": "markdown",
      "metadata": {
        "id": "BCHpGhjMD2_q"
      },
      "source": [
        "## Evaluate on the second external validation dataset"
      ]
    },
    {
      "cell_type": "code",
      "execution_count": 8,
      "metadata": {
        "colab": {
          "base_uri": "https://localhost:8080/"
        },
        "id": "5vP8-2zFDyIf",
        "outputId": "6dc933de-4c5a-404d-e013-f377b29b0cc0"
      },
      "outputs": [
        {
          "name": "stdout",
          "output_type": "stream",
          "text": [
            "CoAID_and_all_of_FNN: Results of SVM external validation, on our new dataset:\n",
            "              precision    recall  f1-score   support\n",
            "\n",
            "           0       0.63      0.63      0.63     14398\n",
            "           1       0.67      0.67      0.67     16232\n",
            "\n",
            "    accuracy                           0.65     30630\n",
            "   macro avg       0.65      0.65      0.65     30630\n",
            "weighted avg       0.65      0.65      0.65     30630\n",
            "\n",
            "CoAID_and_all_of_FNN: Results of LR external validation, on our new dataset:\n",
            "              precision    recall  f1-score   support\n",
            "\n",
            "           0       0.71      0.59      0.64     14398\n",
            "           1       0.68      0.78      0.73     16232\n",
            "\n",
            "    accuracy                           0.69     30630\n",
            "   macro avg       0.69      0.69      0.69     30630\n",
            "weighted avg       0.69      0.69      0.69     30630\n",
            "\n",
            "CoAID_and_all_of_FNN: Results of Bernoulli NB external validation, on our new dataset:\n",
            "              precision    recall  f1-score   support\n",
            "\n",
            "           0       0.98      0.62      0.76     14398\n",
            "           1       0.74      0.99      0.85     16232\n",
            "\n",
            "    accuracy                           0.81     30630\n",
            "   macro avg       0.86      0.80      0.80     30630\n",
            "weighted avg       0.85      0.81      0.81     30630\n",
            "\n"
          ]
        }
      ],
      "source": [
        "validationNewsDF = pd.read_csv('../Datasets/New_External_Validation_Dataset.csv')\n",
        "\n",
        "validationX = validationNewsDF['title'].values\n",
        "validationX = [one_hot(str(elem),10000) for elem in validationX]\n",
        "validationX = pad_sequences(validationX, padding='post', maxlen=500)\n",
        "validationY = validationNewsDF['label'].values\n",
        "\n",
        "#For SVM, LR, and NB, we used the default settings provided in the scikit-learn \n",
        "#For CNN we use the standard implementation with default setting https://github.com/dennybritz/cnn-text-classification-tf\n",
        "#Could just use an out-of-the-box CNN implementation from a TF tutorial\n",
        "# The dennybritz one seems good but I can do it later\n",
        "from sklearn import svm\n",
        "from sklearn.linear_model import LogisticRegression\n",
        "from keras.preprocessing.text import one_hot\n",
        "from keras.preprocessing.sequence import pad_sequences\n",
        "from sklearn.metrics import classification_report\n",
        "from sklearn.naive_bayes import GaussianNB, MultinomialNB, ComplementNB, BernoulliNB, CategoricalNB\n",
        "# Bernoulli was best of above\n",
        "import math\n",
        "X_train = [one_hot(str(elem), 10000) for elem in X_train_base]\n",
        "X_test =  [one_hot(str(elem), 10000) for elem in X_test_base]\n",
        "X_train = pad_sequences(X_train, padding='post', maxlen=500)\n",
        "X_test = pad_sequences(X_test, padding='post', maxlen=500)\n",
        "\n",
        "svmClassifier = svm.SVC()\n",
        "svmClassifier.fit(X_train, y_train_base)\n",
        "svmPrediction = svmClassifier.predict(X_test)\n",
        "svmPrediction = [math.floor(0.5+pred) for pred in svmPrediction]\n",
        "\n",
        "svmValidationPrediction = svmClassifier.predict(validationX)\n",
        "svmValidationPrediction = [math.floor(0.5+pred) for pred in svmValidationPrediction]\n",
        "print(\"CoAID_and_all_of_FNN: Results of SVM external validation, on our new dataset:\")\n",
        "print(classification_report(validationY, svmValidationPrediction))\n",
        "\n",
        "\n",
        "\n",
        "X_train = [one_hot(str(elem), 10000) for elem in X_train_base]\n",
        "X_test =  [one_hot(str(elem), 10000) for elem in X_test_base]\n",
        "X_train = pad_sequences(X_train, padding='post', maxlen=500)\n",
        "X_test = pad_sequences(X_test, padding='post', maxlen=500)\n",
        "\n",
        "lrClassifier = LogisticRegression(random_state=0, max_iter=500)\n",
        "lrClassifier.fit(X_train, y_train_base)\n",
        "lrPrediction = lrClassifier.predict(X_test)\n",
        "lrPrediction = [math.floor(0.5+pred) for pred in lrPrediction]\n",
        "\n",
        "\n",
        "lrValidationPrediction = lrClassifier.predict(validationX)\n",
        "lrValidationPrediction = [math.floor(0.5+pred) for pred in lrValidationPrediction]\n",
        "print(\"CoAID_and_all_of_FNN: Results of LR external validation, on our new dataset:\")\n",
        "print(classification_report(validationY, lrValidationPrediction))\n",
        "\n",
        "X_train = [one_hot(str(elem), 10000) for elem in X_train_base]\n",
        "X_test =  [one_hot(str(elem), 10000) for elem in X_test_base]\n",
        "X_train = pad_sequences(X_train, padding='post', maxlen=500)\n",
        "X_test = pad_sequences(X_test, padding='post', maxlen=500)\n",
        "\n",
        "bnbClassifier = BernoulliNB()\n",
        "bnbClassifier.fit(X_train, y_train_base)\n",
        "bnbPrediction = bnbClassifier.predict(X_test)\n",
        "bnbPrediction = [math.floor(0.5+pred) for pred in bnbPrediction]\n",
        "\n",
        "bnbValidationPrediction = bnbClassifier.predict(validationX)\n",
        "bnbValidationPrediction = [math.floor(0.5+pred) for pred in bnbValidationPrediction]\n",
        "print(\"CoAID_and_all_of_FNN: Results of Bernoulli NB external validation, on our new dataset:\")\n",
        "print(classification_report(validationY, bnbValidationPrediction))\n",
        "\n"
      ]
    },
    {
      "cell_type": "code",
      "execution_count": 8,
      "metadata": {
        "id": "RkkJIxPJD2bH"
      },
      "outputs": [],
      "source": []
    }
  ],
  "metadata": {
    "colab": {
      "collapsed_sections": [],
      "name": "2]_CoAID_and_all_of_FNN.ipynb",
      "provenance": []
    },
    "kernelspec": {
      "display_name": "Python 3",
      "name": "python3"
    }
  },
  "nbformat": 4,
  "nbformat_minor": 0
}
