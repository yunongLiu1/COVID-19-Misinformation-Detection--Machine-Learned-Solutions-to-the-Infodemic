{
  "cells": [
    {
      "cell_type": "markdown",
      "metadata": {},
      "source": [
        "## Load data and remove rows from crowdsoucing with less than 3 totalVotes"
      ]
    },
    {
      "cell_type": "code",
      "execution_count": 8,
      "metadata": {
        "colab": {
          "base_uri": "https://localhost:8080/",
          "height": 402
        },
        "id": "ZXXFgq0bnTPr",
        "outputId": "7ab5e2fc-262b-4c1e-d38e-ccf8d439c154"
      },
      "outputs": [
        {
          "name": "stdout",
          "output_type": "stream",
          "text": [
            "7051\n"
          ]
        },
        {
          "name": "stderr",
          "output_type": "stream",
          "text": [
            "/Users/yunong/opt/anaconda3/lib/python3.9/site-packages/IPython/core/interactiveshell.py:3444: DtypeWarning: Columns (1,3,4,5,6) have mixed types.Specify dtype option on import or set low_memory=False.\n",
            "  exec(code_obj, self.user_global_ns, self.user_ns)\n"
          ]
        },
        {
          "data": {
            "text/html": [
              "<div>\n",
              "<style scoped>\n",
              "    .dataframe tbody tr th:only-of-type {\n",
              "        vertical-align: middle;\n",
              "    }\n",
              "\n",
              "    .dataframe tbody tr th {\n",
              "        vertical-align: top;\n",
              "    }\n",
              "\n",
              "    .dataframe thead th {\n",
              "        text-align: right;\n",
              "    }\n",
              "</style>\n",
              "<table border=\"1\" class=\"dataframe\">\n",
              "  <thead>\n",
              "    <tr style=\"text-align: right;\">\n",
              "      <th></th>\n",
              "      <th>Unnamed: 0</th>\n",
              "      <th>initialLabel</th>\n",
              "      <th>binaryInitialLabel</th>\n",
              "      <th>title</th>\n",
              "      <th>url</th>\n",
              "      <th>trueVoterUniqueIDs</th>\n",
              "      <th>falseVoterUniqueIDs</th>\n",
              "      <th>numTrueVotes</th>\n",
              "      <th>numFalseVotes</th>\n",
              "      <th>totalVotes</th>\n",
              "      <th>maxVotes</th>\n",
              "      <th>interraterPercentAgreement</th>\n",
              "      <th>agreementWithLabel</th>\n",
              "      <th>votersLabel</th>\n",
              "      <th>voterLabelWasAccurate</th>\n",
              "      <th>averageInterraterPercentAgreement</th>\n",
              "      <th>averageAgreementWithLabel</th>\n",
              "      <th>percentOfAgreeingDecisions</th>\n",
              "    </tr>\n",
              "  </thead>\n",
              "  <tbody>\n",
              "    <tr>\n",
              "      <th>1150</th>\n",
              "      <td>1150</td>\n",
              "      <td>Misleading</td>\n",
              "      <td>0.0</td>\n",
              "      <td>Katy Perry, Madonna and Black Sabbath shared ...</td>\n",
              "      <td>https://www.poynter.org/?ifcn_misinformation=k...</td>\n",
              "      <td>['User291']</td>\n",
              "      <td>['User160', 'User456', 'User607']</td>\n",
              "      <td>1.0</td>\n",
              "      <td>3.0</td>\n",
              "      <td>4.0</td>\n",
              "      <td>3.0</td>\n",
              "      <td>0.75</td>\n",
              "      <td>0.75</td>\n",
              "      <td>0.0</td>\n",
              "      <td>1.0</td>\n",
              "      <td>NaN</td>\n",
              "      <td>NaN</td>\n",
              "      <td>NaN</td>\n",
              "    </tr>\n",
              "    <tr>\n",
              "      <th>2688</th>\n",
              "      <td>2688</td>\n",
              "      <td>FALSE</td>\n",
              "      <td>0.0</td>\n",
              "      <td>This photo shows a brothel in Europe where pe...</td>\n",
              "      <td>https://www.poynter.org/?ifcn_misinformation=t...</td>\n",
              "      <td>['User87']</td>\n",
              "      <td>['User79', 'User708', 'User77']</td>\n",
              "      <td>1.0</td>\n",
              "      <td>3.0</td>\n",
              "      <td>4.0</td>\n",
              "      <td>3.0</td>\n",
              "      <td>0.75</td>\n",
              "      <td>0.75</td>\n",
              "      <td>0.0</td>\n",
              "      <td>1.0</td>\n",
              "      <td>NaN</td>\n",
              "      <td>NaN</td>\n",
              "      <td>NaN</td>\n",
              "    </tr>\n",
              "  </tbody>\n",
              "</table>\n",
              "</div>"
            ],
            "text/plain": [
              "      Unnamed: 0 initialLabel  binaryInitialLabel  \\\n",
              "1150        1150   Misleading                 0.0   \n",
              "2688        2688        FALSE                 0.0   \n",
              "\n",
              "                                                  title  \\\n",
              "1150   Katy Perry, Madonna and Black Sabbath shared ...   \n",
              "2688   This photo shows a brothel in Europe where pe...   \n",
              "\n",
              "                                                    url trueVoterUniqueIDs  \\\n",
              "1150  https://www.poynter.org/?ifcn_misinformation=k...        ['User291']   \n",
              "2688  https://www.poynter.org/?ifcn_misinformation=t...         ['User87']   \n",
              "\n",
              "                    falseVoterUniqueIDs  numTrueVotes  numFalseVotes  \\\n",
              "1150  ['User160', 'User456', 'User607']           1.0            3.0   \n",
              "2688    ['User79', 'User708', 'User77']           1.0            3.0   \n",
              "\n",
              "      totalVotes  maxVotes  interraterPercentAgreement  agreementWithLabel  \\\n",
              "1150         4.0       3.0                        0.75                0.75   \n",
              "2688         4.0       3.0                        0.75                0.75   \n",
              "\n",
              "      votersLabel  voterLabelWasAccurate  averageInterraterPercentAgreement  \\\n",
              "1150          0.0                    1.0                                NaN   \n",
              "2688          0.0                    1.0                                NaN   \n",
              "\n",
              "      averageAgreementWithLabel  percentOfAgreeingDecisions  \n",
              "1150                        NaN                         NaN  \n",
              "2688                        NaN                         NaN  "
            ]
          },
          "execution_count": 8,
          "metadata": {},
          "output_type": "execute_result"
        }
      ],
      "source": [
        "import pandas as pd\n",
        "crowdsourcing = pd.read_csv( './anonymized_Crowdsourced_data.csv')\n",
        "#Drop the columns that label value is none\n",
        "crowdsourcing = crowdsourcing.dropna(subset=['initialLabel'])\n",
        "print(len(crowdsourcing))\n",
        "crowdsourcing.sample(2)\n"
      ]
    },
    {
      "cell_type": "code",
      "execution_count": 9,
      "metadata": {},
      "outputs": [
        {
          "data": {
            "text/plain": [
              "6931"
            ]
          },
          "execution_count": 9,
          "metadata": {},
          "output_type": "execute_result"
        }
      ],
      "source": [
        "#remove rows from crowdsoucing with less than 2 totalVotes\n",
        "crowdsourcing = crowdsourcing[crowdsourcing['totalVotes'] > 2]\n",
        "len(crowdsourcing)"
      ]
    },
    {
      "cell_type": "markdown",
      "metadata": {},
      "source": [
        "# Percent Alpha"
      ]
    },
    {
      "cell_type": "code",
      "execution_count": 1,
      "metadata": {},
      "outputs": [],
      "source": [
        "def percent_agreement(numOfTrueVotes, numOfFalseVotes):\n",
        "    #calculate the percent agreement\n",
        "    allTrue = (numOfTrueVotes) / (numOfTrueVotes + numOfFalseVotes) * (numOfTrueVotes-1) / (numOfTrueVotes + numOfFalseVotes-1)\n",
        "    allFalse = (numOfFalseVotes) / (numOfTrueVotes + numOfFalseVotes) * (numOfFalseVotes-1) / (numOfTrueVotes + numOfFalseVotes-1)\n",
        "    return max(allTrue, allFalse)\n"
      ]
    },
    {
      "cell_type": "code",
      "execution_count": 13,
      "metadata": {},
      "outputs": [
        {
          "data": {
            "text/html": [
              "<div>\n",
              "<style scoped>\n",
              "    .dataframe tbody tr th:only-of-type {\n",
              "        vertical-align: middle;\n",
              "    }\n",
              "\n",
              "    .dataframe tbody tr th {\n",
              "        vertical-align: top;\n",
              "    }\n",
              "\n",
              "    .dataframe thead th {\n",
              "        text-align: right;\n",
              "    }\n",
              "</style>\n",
              "<table border=\"1\" class=\"dataframe\">\n",
              "  <thead>\n",
              "    <tr style=\"text-align: right;\">\n",
              "      <th></th>\n",
              "      <th>Unnamed: 0</th>\n",
              "      <th>initialLabel</th>\n",
              "      <th>binaryInitialLabel</th>\n",
              "      <th>title</th>\n",
              "      <th>url</th>\n",
              "      <th>trueVoterUniqueIDs</th>\n",
              "      <th>falseVoterUniqueIDs</th>\n",
              "      <th>numTrueVotes</th>\n",
              "      <th>numFalseVotes</th>\n",
              "      <th>totalVotes</th>\n",
              "      <th>maxVotes</th>\n",
              "      <th>interraterPercentAgreement</th>\n",
              "      <th>agreementWithLabel</th>\n",
              "      <th>votersLabel</th>\n",
              "      <th>voterLabelWasAccurate</th>\n",
              "      <th>averageInterraterPercentAgreement</th>\n",
              "      <th>averageAgreementWithLabel</th>\n",
              "      <th>percentOfAgreeingDecisions</th>\n",
              "      <th>percentAgreement</th>\n",
              "    </tr>\n",
              "  </thead>\n",
              "  <tbody>\n",
              "    <tr>\n",
              "      <th>5750</th>\n",
              "      <td>5750</td>\n",
              "      <td>TRUE</td>\n",
              "      <td>1.0</td>\n",
              "      <td>Egypt reports lowest coronavirus daily figure ...</td>\n",
              "      <td>https://in.reuters.com/article/health-coronavi...</td>\n",
              "      <td>['User271', 'User650', 'User438']</td>\n",
              "      <td>[]</td>\n",
              "      <td>3.0</td>\n",
              "      <td>0.0</td>\n",
              "      <td>3.0</td>\n",
              "      <td>3.0</td>\n",
              "      <td>1.0</td>\n",
              "      <td>1.0</td>\n",
              "      <td>1.0</td>\n",
              "      <td>1.0</td>\n",
              "      <td>NaN</td>\n",
              "      <td>NaN</td>\n",
              "      <td>NaN</td>\n",
              "      <td>1.0</td>\n",
              "    </tr>\n",
              "    <tr>\n",
              "      <th>323</th>\n",
              "      <td>323</td>\n",
              "      <td>FALSE</td>\n",
              "      <td>0.0</td>\n",
              "      <td>Ugandan landlords have been asked by the gove...</td>\n",
              "      <td>https://www.poynter.org/?ifcn_misinformation=u...</td>\n",
              "      <td>['User254', 'User392', 'User93', 'User393']</td>\n",
              "      <td>[]</td>\n",
              "      <td>4.0</td>\n",
              "      <td>0.0</td>\n",
              "      <td>4.0</td>\n",
              "      <td>4.0</td>\n",
              "      <td>1.0</td>\n",
              "      <td>0.0</td>\n",
              "      <td>1.0</td>\n",
              "      <td>0.0</td>\n",
              "      <td>NaN</td>\n",
              "      <td>NaN</td>\n",
              "      <td>NaN</td>\n",
              "      <td>1.0</td>\n",
              "    </tr>\n",
              "  </tbody>\n",
              "</table>\n",
              "</div>"
            ],
            "text/plain": [
              "      Unnamed: 0 initialLabel  binaryInitialLabel  \\\n",
              "5750        5750         TRUE                 1.0   \n",
              "323          323        FALSE                 0.0   \n",
              "\n",
              "                                                  title  \\\n",
              "5750  Egypt reports lowest coronavirus daily figure ...   \n",
              "323    Ugandan landlords have been asked by the gove...   \n",
              "\n",
              "                                                    url  \\\n",
              "5750  https://in.reuters.com/article/health-coronavi...   \n",
              "323   https://www.poynter.org/?ifcn_misinformation=u...   \n",
              "\n",
              "                               trueVoterUniqueIDs falseVoterUniqueIDs  \\\n",
              "5750            ['User271', 'User650', 'User438']                  []   \n",
              "323   ['User254', 'User392', 'User93', 'User393']                  []   \n",
              "\n",
              "      numTrueVotes  numFalseVotes  totalVotes  maxVotes  \\\n",
              "5750           3.0            0.0         3.0       3.0   \n",
              "323            4.0            0.0         4.0       4.0   \n",
              "\n",
              "      interraterPercentAgreement  agreementWithLabel  votersLabel  \\\n",
              "5750                         1.0                 1.0          1.0   \n",
              "323                          1.0                 0.0          1.0   \n",
              "\n",
              "      voterLabelWasAccurate  averageInterraterPercentAgreement  \\\n",
              "5750                    1.0                                NaN   \n",
              "323                     0.0                                NaN   \n",
              "\n",
              "      averageAgreementWithLabel  percentOfAgreeingDecisions  percentAgreement  \n",
              "5750                        NaN                         NaN               1.0  \n",
              "323                         NaN                         NaN               1.0  "
            ]
          },
          "execution_count": 13,
          "metadata": {},
          "output_type": "execute_result"
        }
      ],
      "source": [
        "# caluclate the percent agreement for each row\n",
        "for index, row in crowdsourcing.iterrows():\n",
        "    numOfTrueVotes = row['numTrueVotes']\n",
        "    numOfFalseVotes = row['numFalseVotes']\n",
        "    percentAgreement = percent_agreement(numOfTrueVotes, numOfFalseVotes)\n",
        "    crowdsourcing.loc[index, 'percentAgreement'] = percentAgreement\n",
        "crowdsourcing.sample(2)"
      ]
    },
    {
      "cell_type": "code",
      "execution_count": 14,
      "metadata": {},
      "outputs": [
        {
          "data": {
            "text/plain": [
              "0.6849702166251084"
            ]
          },
          "execution_count": 14,
          "metadata": {},
          "output_type": "execute_result"
        }
      ],
      "source": [
        "#Calculate the average percent agreement\n",
        "crowdsourcing['percentAgreement'].mean()"
      ]
    }
  ],
  "metadata": {
    "colab": {
      "name": "CorwdSourcing_concordant_versus_discordant_evaluations.ipynb",
      "provenance": []
    },
    "kernelspec": {
      "display_name": "Python 3.9.7 ('base')",
      "language": "python",
      "name": "python3"
    },
    "language_info": {
      "codemirror_mode": {
        "name": "ipython",
        "version": 3
      },
      "file_extension": ".py",
      "mimetype": "text/x-python",
      "name": "python",
      "nbconvert_exporter": "python",
      "pygments_lexer": "ipython3",
      "version": "3.9.7"
    },
    "vscode": {
      "interpreter": {
        "hash": "bf3dd0236868da6ddc6b668912a1878ecf12eb960791ea0549fa4b3c069e6350"
      }
    }
  },
  "nbformat": 4,
  "nbformat_minor": 0
}
